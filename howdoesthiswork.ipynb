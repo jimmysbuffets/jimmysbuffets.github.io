{
 "cells": [
  {
   "cell_type": "code",
   "execution_count": 1,
   "id": "bf81eb66",
   "metadata": {},
   "outputs": [],
   "source": [
    "#imports and functions\n",
    "import pandas as pd\n",
    "from datetime import date\n",
    "def rate_per_period(i, n, p):\n",
    "    \"\"\"when compounding is different from payment period, need to calculate new rate for the period\n",
    "    r_p = rate_per_period\n",
    "    i = nominal annual interest rate\n",
    "    n = number of compounding periods per year\n",
    "    p = number of payment periods per year\n",
    "    \"\"\"\n",
    "    r_p = ((1 + i/n)**(n/p)) - 1\n",
    "    return r_p\n",
    "def payment_amount_per_period(P, r, n):\n",
    "    \"\"\"payment amount per period, where r is the interest rate per period, and n is the total payments\n",
    "    if doing for monthly payments, r = r_y/12, n = n_y*12\n",
    "    A = payment Amount per period\n",
    "    P = initial Principal (loan amount)\n",
    "    r = interest rate per period\n",
    "    n = total number of payments or periods\"\"\"\n",
    "    A = P * (r*(1+r)**n) / (((1+r)**n)-1)\n",
    "    return A\n",
    "\n",
    "#regular amortization table and summary\n",
    "def amortization_table(interest_rate=.0725, years=30, compounds_year=12, payments_year=12, principal=462000, start_date=date(2023,11,1)):\n",
    "    #getting rate of interest per payment period\n",
    "    period_rate = rate_per_period(i=interest_rate, n=compounds_year, p=payments_year)\n",
    "\n",
    "    #using number of payments to get a range of payment dates, to be used as index for df\n",
    "    if payments_year == 12: freq_var = 'MS'\n",
    "    elif payments_year == 26: freq_var = '2W-WED'\n",
    "    elif payments_year == 52: freq_var = 'W-WED'\n",
    "    else: freq_var = None\n",
    "    rng = pd.date_range(start_date, periods=years*payments_year, freq=freq_var)\n",
    "\n",
    "    #setting up df\n",
    "    df = pd.DataFrame(index=rng,\n",
    "                      columns=['Payment_#', 'Total_Payment', 'Principal', 'Interest', 'Balance_In', 'Balance_Out'],\n",
    "                      dtype='float')\n",
    "    df.reset_index(inplace=True)\n",
    "    df.index += 1\n",
    "    df.index.name = \"Period\" #not sure if you need this, or even the index += 1\n",
    "\n",
    "    #filling in the Payment_# column and the first principal\n",
    "    df['Payment_#'] = range(1, years * payments_year +1)\n",
    "    df.loc[1, 'Balance_In'] = principal\n",
    "\n",
    "    #filling in the payment per period column\n",
    "    total_payment_per_period = payment_amount_per_period(P=principal, r=period_rate, n=years*payments_year)\n",
    "    df['Total_Payment'] = total_payment_per_period\n",
    "\n",
    "    #filling out the first row\n",
    "    df.loc[1, 'Interest'] = period_rate * df.loc[1, 'Balance_In']\n",
    "    df.loc[1, 'Principal'] = df.loc[1, 'Total_Payment'] - df.loc[1, 'Interest']\n",
    "    df.loc[1, 'Balance_Out'] = df.loc[1, 'Balance_In'] - df.loc[1, 'Principal']\n",
    "    new_balance = df.loc[1, 'Balance_Out']\n",
    "\n",
    "    #loop to fill in the rest of the df table (starting with the second row)\n",
    "    for index, row in df.iloc[1:].iterrows():\n",
    "        df.loc[index, 'Balance_In'] = new_balance\n",
    "        df.loc[index, 'Interest'] = period_rate * df.loc[index, 'Balance_In']\n",
    "        df.loc[index, 'Principal'] = df.loc[index, 'Total_Payment'] - df.loc[index, 'Interest']\n",
    "        df.loc[index, 'Balance_Out'] = df.loc[index, 'Balance_In'] - df.loc[index, 'Principal']\n",
    "        new_balance = df.loc[index, 'Balance_Out']\n",
    "\n",
    "\n",
    "    ##making summary stats (should this all happen outside the function?)\n",
    "\n",
    "    #recording the pay schedule\n",
    "    if payments_year == 12: pay_schedule = 'monthly'\n",
    "    elif payments_year == 26: pay_schedule = 'biweekly'\n",
    "    elif payments_year == 52: pay_schedule = 'weekly'\n",
    "    else: pay_schedule = None\n",
    "\n",
    "    #finding the payoff date and where the principal crosses the interest (do later, think they're the same)\n",
    "    principal_overtakes = df[df['Principal'] > df['Interest']].iloc[0]['index']\n",
    "    end_date = df.loc[df.last_valid_index()]['index']\n",
    "\n",
    "    #putting together the summary row\n",
    "    summary_ref = pd.DataFrame.from_dict(dict([('pay schedule', [pay_schedule]),\n",
    "                                               ('start date', [start_date]),\n",
    "                                               ('end date', [end_date]),\n",
    "                                               ('principal', [principal]),\n",
    "                                               ('yearly interest', [interest_rate]),\n",
    "                                               ('term (yrs)', [years]),\n",
    "                                               ('principal overtake', [principal_overtakes])]))\n",
    "    payment_info = (df[[\"Total_Payment\", \"Principal\", \"Interest\", ]].sum().to_frame().T)\n",
    "\n",
    "    summary_stats = pd.concat([summary_ref, payment_info], axis=1)\n",
    "\n",
    "    return df, summary_stats\n",
    "\n",
    "amort_monthly, summary_monthly = amortization_table(payments_year=12)\n",
    "amort_biweekly, summary_biweekly = amortization_table(payments_year=26)\n",
    "amort_weekly, summary_weekly = amortization_table(payments_year=52)\n",
    "\n",
    "summary_summary = pd.concat([summary_monthly, summary_biweekly, summary_weekly])"
   ]
  },
  {
   "cell_type": "code",
   "execution_count": 2,
   "id": "4c495e2c",
   "metadata": {},
   "outputs": [
    {
     "data": {
      "text/html": [
       "<div>\n",
       "<style scoped>\n",
       "    .dataframe tbody tr th:only-of-type {\n",
       "        vertical-align: middle;\n",
       "    }\n",
       "\n",
       "    .dataframe tbody tr th {\n",
       "        vertical-align: top;\n",
       "    }\n",
       "\n",
       "    .dataframe thead th {\n",
       "        text-align: right;\n",
       "    }\n",
       "</style>\n",
       "<table border=\"1\" class=\"dataframe\">\n",
       "  <thead>\n",
       "    <tr style=\"text-align: right;\">\n",
       "      <th></th>\n",
       "      <th>index</th>\n",
       "      <th>Payment_#</th>\n",
       "      <th>Total_Payment</th>\n",
       "      <th>Principal</th>\n",
       "      <th>Interest</th>\n",
       "      <th>Balance_In</th>\n",
       "      <th>Balance_Out</th>\n",
       "    </tr>\n",
       "    <tr>\n",
       "      <th>Period</th>\n",
       "      <th></th>\n",
       "      <th></th>\n",
       "      <th></th>\n",
       "      <th></th>\n",
       "      <th></th>\n",
       "      <th></th>\n",
       "      <th></th>\n",
       "    </tr>\n",
       "  </thead>\n",
       "  <tbody>\n",
       "    <tr>\n",
       "      <th>1</th>\n",
       "      <td>2023-11-01</td>\n",
       "      <td>1</td>\n",
       "      <td>3151.654414</td>\n",
       "      <td>360.404414</td>\n",
       "      <td>2791.250000</td>\n",
       "      <td>462000.000000</td>\n",
       "      <td>461639.595586</td>\n",
       "    </tr>\n",
       "    <tr>\n",
       "      <th>2</th>\n",
       "      <td>2023-12-01</td>\n",
       "      <td>2</td>\n",
       "      <td>3151.654414</td>\n",
       "      <td>362.581857</td>\n",
       "      <td>2789.072557</td>\n",
       "      <td>461639.595586</td>\n",
       "      <td>461277.013729</td>\n",
       "    </tr>\n",
       "    <tr>\n",
       "      <th>3</th>\n",
       "      <td>2024-01-01</td>\n",
       "      <td>3</td>\n",
       "      <td>3151.654414</td>\n",
       "      <td>364.772456</td>\n",
       "      <td>2786.881958</td>\n",
       "      <td>461277.013729</td>\n",
       "      <td>460912.241273</td>\n",
       "    </tr>\n",
       "    <tr>\n",
       "      <th>4</th>\n",
       "      <td>2024-02-01</td>\n",
       "      <td>4</td>\n",
       "      <td>3151.654414</td>\n",
       "      <td>366.976290</td>\n",
       "      <td>2784.678124</td>\n",
       "      <td>460912.241273</td>\n",
       "      <td>460545.264984</td>\n",
       "    </tr>\n",
       "    <tr>\n",
       "      <th>5</th>\n",
       "      <td>2024-03-01</td>\n",
       "      <td>5</td>\n",
       "      <td>3151.654414</td>\n",
       "      <td>369.193438</td>\n",
       "      <td>2782.460976</td>\n",
       "      <td>460545.264984</td>\n",
       "      <td>460176.071546</td>\n",
       "    </tr>\n",
       "  </tbody>\n",
       "</table>\n",
       "</div>"
      ],
      "text/plain": [
       "            index  Payment_#  Total_Payment   Principal     Interest  \\\n",
       "Period                                                                 \n",
       "1      2023-11-01          1    3151.654414  360.404414  2791.250000   \n",
       "2      2023-12-01          2    3151.654414  362.581857  2789.072557   \n",
       "3      2024-01-01          3    3151.654414  364.772456  2786.881958   \n",
       "4      2024-02-01          4    3151.654414  366.976290  2784.678124   \n",
       "5      2024-03-01          5    3151.654414  369.193438  2782.460976   \n",
       "\n",
       "           Balance_In    Balance_Out  \n",
       "Period                                \n",
       "1       462000.000000  461639.595586  \n",
       "2       461639.595586  461277.013729  \n",
       "3       461277.013729  460912.241273  \n",
       "4       460912.241273  460545.264984  \n",
       "5       460545.264984  460176.071546  "
      ]
     },
     "execution_count": 2,
     "metadata": {},
     "output_type": "execute_result"
    }
   ],
   "source": [
    "amort_monthly.head()"
   ]
  },
  {
   "cell_type": "code",
   "execution_count": 3,
   "id": "0f54c131",
   "metadata": {},
   "outputs": [
    {
     "name": "stdout",
     "output_type": "stream",
     "text": [
      "  pay schedule  start date   end date  principal  yearly interest  term (yrs)  \\\n",
      "0      monthly  2023-11-01 2053-10-01     462000           0.0725          30   \n",
      "0     biweekly  2023-11-01 2053-09-10     462000           0.0725          30   \n",
      "0       weekly  2023-11-01 2053-09-17     462000           0.0725          30   \n",
      "\n",
      "  principal overtake  Total_Payment  Principal       Interest  \n",
      "0         2044-04-01   1.134596e+06   462000.0  672595.588989  \n",
      "0         2044-03-09   1.132756e+06   462000.0  670755.749072  \n",
      "0         2044-03-09   1.131968e+06   462000.0  669968.463610  \n"
     ]
    }
   ],
   "source": [
    "print(summary_summary)"
   ]
  },
  {
   "cell_type": "code",
   "execution_count": 4,
   "id": "4d9e15af",
   "metadata": {},
   "outputs": [
    {
     "name": "stderr",
     "output_type": "stream",
     "text": [
      "C:\\Users\\alexr\\anaconda3\\Lib\\site-packages\\seaborn\\axisgrid.py:118: UserWarning: The figure layout has changed to tight\n",
      "  self._figure.tight_layout(*args, **kwargs)\n"
     ]
    },
    {
     "data": {
      "text/plain": [
       "<seaborn.axisgrid.FacetGrid at 0x1e2f75ae750>"
      ]
     },
     "execution_count": 4,
     "metadata": {},
     "output_type": "execute_result"
    },
    {
     "data": {
      "image/png": "[encoded data removed]",
      "text/plain": [
       "<Figure size 609.5x500 with 1 Axes>"
      ]
     },
     "metadata": {},
     "output_type": "display_data"
    }
   ],
   "source": [
    "import seaborn as sns\n",
    "import matplotlib.pyplot as plt\n",
    "import pandas as pd\n",
    "\n",
    "amorting = amort_monthly.reset_index().rename(columns={'index':'date'})\n",
    "\n",
    "amort_melt = amorting[['date','Principal','Interest']].melt(id_vars=\"date\",var_name=\"pay_type\",value_name=\"pay_amount\")\n",
    "\n",
    "g = sns.catplot(x='date', y='pay_amount', hue='pay_type', data=amort_melt, kind='bar')\n",
    "g.set(xlabel= 'date', ylabel='monthly payment', title='Monthly Payment for 30-yr Monthly Mortgage, Principal vs. Interest',\n",
    "      xticks = range(2,360, 60), xticklabels=['2024', '2029', '2034', '2039', '2044', '2049'])"
   ]
  },
  {
   "cell_type": "code",
   "execution_count": null,
   "id": "5cf2596e",
   "metadata": {},
   "outputs": [],
   "source": []
  },
  {
   "cell_type": "code",
   "execution_count": 5,
   "id": "17b13064",
   "metadata": {},
   "outputs": [],
   "source": [
    "#what happens if i type like this"
   ]
  },
  {
   "cell_type": "code",
   "execution_count": 6,
   "id": "00dd6535",
   "metadata": {},
   "outputs": [
    {
     "data": {
      "text/plain": [
       "'what happens if i type like this'"
      ]
     },
     "execution_count": 6,
     "metadata": {},
     "output_type": "execute_result"
    }
   ],
   "source": [
    "\"\"\"what happens if i type like this\"\"\""
   ]
  },
  {
   "cell_type": "code",
   "execution_count": 7,
   "id": "9fbd5e33",
   "metadata": {},
   "outputs": [
    {
     "ename": "SyntaxError",
     "evalue": "invalid syntax (2698570128.py, line 1)",
     "output_type": "error",
     "traceback": [
      "\u001b[1;36m  Cell \u001b[1;32mIn[7], line 1\u001b[1;36m\u001b[0m\n\u001b[1;33m    \"\"how about this?\"\"\u001b[0m\n\u001b[1;37m      ^\u001b[0m\n\u001b[1;31mSyntaxError\u001b[0m\u001b[1;31m:\u001b[0m invalid syntax\n"
     ]
    }
   ],
   "source": [
    "\"\"how about this?\"\""
   ]
  },
  {
   "cell_type": "code",
   "execution_count": null,
   "id": "5f744b64",
   "metadata": {},
   "outputs": [],
   "source": []
  }
 ],
 "metadata": {
  "kernelspec": {
   "display_name": "Python 3 (ipykernel)",
   "language": "python",
   "name": "python3"
  },
  "language_info": {
   "codemirror_mode": {
    "name": "ipython",
    "version": 3
   },
   "file_extension": ".py",
   "mimetype": "text/x-python",
   "name": "python",
   "nbconvert_exporter": "python",
   "pygments_lexer": "ipython3",
   "version": "3.11.5"
  }
 },
 "nbformat": 4,
 "nbformat_minor": 5
}
